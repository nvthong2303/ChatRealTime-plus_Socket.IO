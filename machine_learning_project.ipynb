{
  "nbformat": 4,
  "nbformat_minor": 0,
  "metadata": {
    "colab": {
      "name": "machine  learning project.ipynb",
      "provenance": [],
      "collapsed_sections": [],
      "authorship_tag": "ABX9TyMpSdWsHuXS8WN14deY0bx2",
      "include_colab_link": true
    },
    "kernelspec": {
      "name": "python3",
      "display_name": "Python 3"
    },
    "language_info": {
      "name": "python"
    }
  },
  "cells": [
    {
      "cell_type": "markdown",
      "metadata": {
        "id": "view-in-github",
        "colab_type": "text"
      },
      "source": [
        "<a href=\"https://colab.research.google.com/github/nvthong2303/ChatRealTime-plus_Socket.IO/blob/master/machine_learning_project.ipynb\" target=\"_parent\"><img src=\"https://colab.research.google.com/assets/colab-badge.svg\" alt=\"Open In Colab\"/></a>"
      ]
    },
    {
      "cell_type": "markdown",
      "source": [
        "tải xuống dataset cho quá trình huấn luyện mô hình"
      ],
      "metadata": {
        "id": "NcncEcb5f9oh"
      }
    },
    {
      "cell_type": "code",
      "execution_count": 19,
      "metadata": {
        "id": "k8HQPviifuxc"
      },
      "outputs": [],
      "source": [
        "from tensorflow.keras.datasets import mnist\n",
        "from matplotlib import pyplot as plt\n",
        "\n",
        "# tải dữ liệu từ api keras\n",
        "(trainX, trainY), (testX, testY) = mnist.load_data()"
      ]
    },
    {
      "cell_type": "markdown",
      "source": [
        "xử lý dữ liệu vừa tải xuống"
      ],
      "metadata": {
        "id": "q0D_znVggNIo"
      }
    },
    {
      "cell_type": "code",
      "source": [
        "trainX = trainX.reshape((trainX.shape[0], 28, 28, 1))\n",
        "testX = testX.reshape((testX.shape[0], 28, 28, 1))"
      ],
      "metadata": {
        "id": "5AB-Hvq2hUaB"
      },
      "execution_count": 21,
      "outputs": []
    },
    {
      "cell_type": "code",
      "source": [
        "from tensorflow.keras.utils import to_categorical\n",
        "\n",
        "trainY = to_categorical(trainY)\n",
        "testY = to_categorical(testY)"
      ],
      "metadata": {
        "id": "aCFl7SXPgvpq"
      },
      "execution_count": 22,
      "outputs": []
    },
    {
      "cell_type": "code",
      "source": [
        "trainX = trainX.astype('float32')\n",
        "testX = testX.astype('float32')\n",
        "trainX = trainX / 255.0\n",
        "testX = testX / 255.0"
      ],
      "metadata": {
        "id": "6j9gRn1VgQfY"
      },
      "execution_count": 24,
      "outputs": []
    },
    {
      "cell_type": "markdown",
      "source": [
        "định nghĩa model"
      ],
      "metadata": {
        "id": "X3dDrJ-3gdqY"
      }
    },
    {
      "cell_type": "code",
      "source": [
        "from tensorflow.keras.models import Sequential\n",
        "from tensorflow.keras.layers import Conv2D\n",
        "from tensorflow.keras.layers import MaxPooling2D\n",
        "from tensorflow.keras.layers import Dense\n",
        "from tensorflow.keras.layers import Flatten\n",
        "from tensorflow.keras.optimizers import SGD\n",
        "\n",
        "def define_model():\n",
        "\tmodel = Sequential()\n",
        "\tmodel.add(Conv2D(32, (3, 3), activation='relu', kernel_initializer='he_uniform', input_shape=(28, 28, 1)))\n",
        "\tmodel.add(MaxPooling2D((2, 2)))\n",
        "\tmodel.add(Flatten())\n",
        "\tmodel.add(Dense(100, activation='relu', kernel_initializer='he_uniform'))\n",
        "\tmodel.add(Dense(10, activation='softmax'))\n",
        "\n",
        "\topt = SGD(learning_rate=0.01, momentum=0.9)\n",
        "\tmodel.compile(optimizer=opt, loss='categorical_crossentropy', metrics=['accuracy'])\n",
        "\treturn model"
      ],
      "metadata": {
        "id": "VZOCMzC6gfXQ"
      },
      "execution_count": 25,
      "outputs": []
    },
    {
      "cell_type": "markdown",
      "source": [
        "đánh giá mô hình"
      ],
      "metadata": {
        "id": "42ahxD8FlnJh"
      }
    },
    {
      "cell_type": "code",
      "source": [
        "from sklearn.model_selection import KFold\n",
        "\n",
        "def evaluate_model(dataX, dataY, n_folds=5):\n",
        "    # prepare cross validation\n",
        "    kfold = KFold(n_folds, shuffle=True, random_state=1)\n",
        "    # enumerate splits\n",
        "    for train_ix, test_ix in kfold.split(dataX):\n",
        "        # define model\n",
        "        model = define_model()\n",
        "        # select rows for train and test\n",
        "        trainX, trainY, testX, testY = dataX[train_ix], dataY[train_ix], dataX[test_ix], dataY[test_ix]\n",
        "        # fit model\n",
        "        history = model.fit(trainX, trainY, epochs=10, batch_size=32, validation_data=(testX, testY), verbose=0)\n",
        "        # evaluate model\n",
        "        _, acc = model.evaluate(testX, testY, verbose=0)\n",
        "        print('> %.3f' % (acc * 100.0))\n",
        "        # stores scores\n",
        "        model.save('final_model.h5')\n",
        "    return\n",
        "\n",
        "evaluate_model(trainX, trainY);"
      ],
      "metadata": {
        "colab": {
          "base_uri": "https://localhost:8080/"
        },
        "id": "e9mDIC8yloeR",
        "outputId": "8b77d564-d6b5-445b-868f-0f5b3c988dac"
      },
      "execution_count": 27,
      "outputs": [
        {
          "output_type": "stream",
          "name": "stdout",
          "text": [
            "> 98.600\n",
            "> 98.608\n",
            "> 98.650\n",
            "> 98.850\n",
            "> 98.783\n"
          ]
        }
      ]
    },
    {
      "cell_type": "markdown",
      "source": [
        "đánh giá mô hình bằng bộ test từ mnist"
      ],
      "metadata": {
        "id": "8XiVRaO0u7la"
      }
    },
    {
      "cell_type": "code",
      "source": [
        "from tensorflow.keras.models import load_model\n",
        "\n",
        "def run_test_harness():\n",
        "\t# load model\n",
        "\tmodel = load_model('final_model.h5')\n",
        "\t# evaluate model on test dataset\n",
        "\t_, acc = model.evaluate(testX, testY, verbose=0)\n",
        "\tprint('> %.3f' % (acc * 100.0))\n",
        " \n",
        "# entry point, run the test harness\n",
        "run_test_harness()"
      ],
      "metadata": {
        "colab": {
          "base_uri": "https://localhost:8080/"
        },
        "id": "wUOnJCk6u9lx",
        "outputId": "0813ad66-fc90-4ac9-ed45-ee216b557c21"
      },
      "execution_count": 29,
      "outputs": [
        {
          "output_type": "stream",
          "name": "stdout",
          "text": [
            "> 98.620\n"
          ]
        }
      ]
    },
    {
      "cell_type": "markdown",
      "source": [
        "đưa ra dự đoán\n",
        "\n",
        "1. dự đoán 1 bức ảnh đầu vào :"
      ],
      "metadata": {
        "id": "WTH2az2Wz0XK"
      }
    },
    {
      "cell_type": "code",
      "source": [
        "# make a prediction for a new image.\n",
        "from numpy import argmax\n",
        "from keras.preprocessing.image import load_img\n",
        "from keras.preprocessing.image import img_to_array\n",
        "from keras.models import load_model\n",
        " \n",
        "# load and prepare the image\n",
        "def load_image(filename):\n",
        "\n",
        "\timg = load_img(filename, grayscale=True, target_size=(28, 28))\n",
        "\n",
        "\timg = img_to_array(img)\n",
        "\n",
        "\timg = img.reshape(1, 28, 28, 1)\n",
        "\n",
        "\timg = img.astype('float32')\n",
        "\timg = img / 255.0\n",
        "\treturn img\n",
        " \n",
        "def run_example():\n",
        "\timg = load_image('sample_image.png')\n",
        "\n",
        "\tmodel = load_model('final_model.h5')\n",
        "\n",
        "\tpredict_value = model.predict(img)\n",
        "\tdigit = argmax(predict_value)\n",
        "\tprint(digit)\n",
        " \n",
        "run_example()"
      ],
      "metadata": {
        "colab": {
          "base_uri": "https://localhost:8080/"
        },
        "id": "-g-sXMVjz5C0",
        "outputId": "9a001809-d577-4fed-b9f9-f285f018fdb0"
      },
      "execution_count": 30,
      "outputs": [
        {
          "output_type": "stream",
          "name": "stderr",
          "text": [
            "/usr/local/lib/python3.7/dist-packages/keras_preprocessing/image/utils.py:107: UserWarning: grayscale is deprecated. Please use color_mode = \"grayscale\"\n",
            "  warnings.warn('grayscale is deprecated. Please use '\n"
          ]
        },
        {
          "output_type": "stream",
          "name": "stdout",
          "text": [
            "7\n"
          ]
        }
      ]
    }
  ]
}